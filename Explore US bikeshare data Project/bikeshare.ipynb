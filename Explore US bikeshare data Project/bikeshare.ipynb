{
  "nbformat": 4,
  "nbformat_minor": 0,
  "metadata": {
    "colab": {
      "name": "bikeshare.ipynb",
      "provenance": [],
      "collapsed_sections": []
    },
    "kernelspec": {
      "name": "python3",
      "display_name": "Python 3"
    },
    "language_info": {
      "name": "python"
    }
  },
  "cells": [
    {
      "cell_type": "code",
      "source": [
        "#@title Default title text\n",
        "import time\n",
        "import pandas as pd\n",
        "import numpy as np\n",
        "\n",
        "CITY_DATA = { 'chicago': 'chicago.csv',\n",
        "              'new york city': 'new_york_city.csv',\n",
        "              'washington': 'washington.csv' }\n",
        "\n",
        "MONTH_DATA = ['all', 'january', 'february', 'march', 'april', 'may', 'june']\n",
        "\n",
        "DAY_DATA = ['all', 'monday', 'tuesday', 'wednesday', 'friday', 'saturday', 'sunday']"
      ],
      "metadata": {
        "cellView": "code",
        "id": "-w05OARoxc_i"
      },
      "execution_count": 2,
      "outputs": []
    },
    {
      "cell_type": "code",
      "source": [
        "def get_filters():\n",
        "    \"\"\"\n",
        "    Asks user to specify a city, month, and day to analyze.\n",
        "    Returns:\n",
        "        (str) city - name of the city to analyze\n",
        "        (str) month - name of the month to filter by, or \"all\" to apply no month filter\n",
        "        (str) day - name of the day of week to filter by, or \"all\" to apply no day filter\n",
        "    \"\"\"\n",
        "    print('Hello! Let\\'s explore some US bikeshare data!')\n",
        "    # TO DO: get user input for city (chicago, new york city, washington). HINT: Use a while loop to handle invalid inputs\n",
        "    city_name = ''\n",
        "    while city_name.lower() not in CITY_DATA:\n",
        "        city_name = input(\"\\nWhat is the name of the city to analyze data?\\n\")\n",
        "        if city_name.lower() in CITY_DATA:\n",
        "            #We were able to get the name of the city to analyze data.\n",
        "            city = CITY_DATA[city_name.lower()]\n",
        "        else:\n",
        "            #We were not able to get the name of the city to analyze data so we continue the loop.\n",
        "            print(\"Sorry we were not able to get the name of the city to analyze data.\\n\")\n",
        "\n",
        "    # TO DO: get user input for month (all, january, february, ... , june)\n",
        "    month_name = ''\n",
        "    while month_name.lower() not in MONTH_DATA:\n",
        "        month_name = input(\"\\nWhat is the name of the month to filter data? \\n\")\n",
        "        if month_name.lower() in MONTH_DATA:\n",
        "            #We were able to get the name of the month to analyze data.\n",
        "            month = month_name.lower()\n",
        "        else:\n",
        "            #We were not able to get the name of the month to analyze data so we continue the loop.\n",
        "            print(\"Sorry we were not able to get the name of the month to filter data.\\n\")\n",
        "\n",
        "    # TO DO: get user input for day of week (all, monday, tuesday, ... sunday)\n",
        "    day_name = ''\n",
        "    while day_name.lower() not in DAY_DATA:\n",
        "        day_name = input(\"\\nWhat is the name of the day to filter data?\\n\")\n",
        "        if day_name.lower() in DAY_DATA:\n",
        "            #We were able to get the name of the month to analyze data.\n",
        "            day = day_name.lower()\n",
        "        else:\n",
        "            #We were not able to get the name of the month to analyze data so we continue the loop.\n",
        "            print(\"Sorry we were not able to get the name of the day to filter data, Please input either 'all' to apply no day filter or monday, tuesday, ... sunday.\\n\")\n",
        "\n",
        "    print('-'*40)\n",
        "    return city, month, day"
      ],
      "metadata": {
        "id": "NpLZOJMMx4KH"
      },
      "execution_count": 3,
      "outputs": []
    },
    {
      "cell_type": "code",
      "source": [
        "def load_data(city, month, day):\n",
        "    \"\"\"\n",
        "    Loads data for the specified city and filters by month and day if applicable.\n",
        "    Args:\n",
        "        (str) city - name of the city to analyze\n",
        "        (str) month - name of the month to filter by, or \"all\" to apply no month filter\n",
        "        (str) day - name of the day of week to filter by, or \"all\" to apply no day filter\n",
        "    Returns:\n",
        "        df - Pandas DataFrame containing city data filtered by month and day\n",
        "    \"\"\"\n",
        "    # load data file into a dataframe\n",
        "    df = pd.read_csv(city)\n",
        "\n",
        "    # convert the Start Time column to datetime\n",
        "    df['Start Time'] = pd.to_datetime(df['Start Time'])\n",
        "\n",
        "    # extract month and day of week from Start Time to create new columns\n",
        "    df['month'] = df['Start Time'].dt.month\n",
        "    df['day_of_week'] = df['Start Time'].dt.weekday_name\n",
        "    df['hour'] = df['Start Time'].dt.hour\n",
        "\n",
        "\n",
        "    # filter by month if applicable\n",
        "    if month != 'all':\n",
        "        # use the index of the months list to get the corresponding int\n",
        "        month = MONTH_DATA.index(month)\n",
        "\n",
        "        # filter by month to create the new dataframe\n",
        "        df = df.loc[df['month'] == month]\n",
        "\n",
        "    # filter by day of week if applicable\n",
        "    if day != 'all':\n",
        "        # filter by day of week to create the new dataframe\n",
        "        df = df.loc[df['day_of_week'] == day.title()]\n",
        "\n",
        "    return df"
      ],
      "metadata": {
        "id": "KjTEcF0qyhPX"
      },
      "execution_count": 4,
      "outputs": []
    },
    {
      "cell_type": "code",
      "source": [
        "def time_stats(df):\n",
        "    \"\"\"Displays statistics on the most frequent times of travel.\n",
        "    Args:\n",
        "        (DataFrame) df - Pandas DataFrame containing city data filtered by month and day\n",
        "    \"\"\"\n",
        "\n",
        "    print('\\nCalculating The Most Frequent Times of Travel...\\n')\n",
        "    start_time = time.time()\n",
        "\n",
        "    # TO DO: display the most common month\n",
        "    common_month = df['month'].mode()[0]\n",
        "    print(\"The most common month from the given fitered data is: \" + MONTH_DATA[common_month].title())\n",
        "\n",
        "    # TO DO: display the most common day of week\n",
        "    common_day_of_week = df['day_of_week'].mode()[0]\n",
        "    print(\"The most common day of week from the given fitered data is: \" + common_day_of_week)\n",
        "\n",
        "    # TO DO: display the most common start hour\n",
        "    common_start_hour = df['hour'].mode()[0]\n",
        "    print(\"The most common start hour from the given fitered data is: \" + str(common_start_hour))\n",
        "\n",
        "    print(\"\\nThis took %s seconds.\" % (time.time() - start_time))\n",
        "    print('-'*40)\n"
      ],
      "metadata": {
        "id": "gfj1X8FNyhdk"
      },
      "execution_count": 5,
      "outputs": []
    },
    {
      "cell_type": "code",
      "source": [
        "def station_stats(df):\n",
        "    \"\"\"Displays statistics on the most popular stations and trip.\n",
        "    Args:\n",
        "        (DataFrame) df - Pandas DataFrame containing city data filtered by month and day\n",
        "    \"\"\"\n",
        "\n",
        "    print('\\nCalculating The Most Popular Stations and Trip...\\n')\n",
        "    start_time = time.time()\n",
        "\n",
        "    # TO DO: display most commonly used start station\n",
        "    common_start_station = df['Start Station'].mode()[0]\n",
        "    print(\"The most commonly used start station from the given fitered data is: \" + common_start_station)\n",
        "\n",
        "    # TO DO: display most commonly used end station\n",
        "    common_end_station = df['End Station'].mode()[0]\n",
        "    print(\"The most commonly used end station from the given fitered data is: \" + common_end_station)\n",
        "\n",
        "    # TO DO: display most frequent combination of start station and end station trip\n",
        "    frequent_combination = (df['Start Station'] + \"||\" + df['End Station']).mode()[0]\n",
        "    print(\"The most frequent combination of start station and end station trip is : \" + str(frequent_combination.split(\"||\")))\n",
        "\n",
        "    print(\"\\nThis took %s seconds.\" % (time.time() - start_time))\n",
        "    print('-'*40)"
      ],
      "metadata": {
        "id": "CbaUPzQQyhf4"
      },
      "execution_count": 6,
      "outputs": []
    },
    {
      "cell_type": "code",
      "source": [
        "def trip_duration_stats(df):\n",
        "    \"\"\"Displays statistics on the total and average trip duration.\n",
        "    Args:\n",
        "        (DataFrame) df - Pandas DataFrame containing city data filtered by month and day\n",
        "    \"\"\"\n",
        "\n",
        "    print('\\nCalculating Trip Duration...\\n')\n",
        "    start_time = time.time()\n",
        "\n",
        "    # TO DO: display total travel time\n",
        "    total_travel_time = df['Trip Duration'].sum()\n",
        "    print(\"The total travel time from the given fitered data is: \" + str(total_travel_time))\n",
        "\n",
        "    # TO DO: display mean travel time\n",
        "    mean_travel_time = df['Trip Duration'].mean()\n",
        "    print(\"The mean travel time from the given fitered data is: \" + str(mean_travel_time))\n",
        "\n",
        "    print(\"\\nThis took %s seconds.\" % (time.time() - start_time))\n",
        "    print('-'*40)\n"
      ],
      "metadata": {
        "id": "7Sqe7iW1yhio"
      },
      "execution_count": 7,
      "outputs": []
    },
    {
      "cell_type": "code",
      "source": [
        "def user_stats(df, city):\n",
        "    \"\"\"Displays statistics on bikeshare users.\n",
        "    Args:\n",
        "        (DataFrame) df - Pandas DataFrame containing city data filtered by month and day\n",
        "    \"\"\"\n",
        "\n",
        "    print('\\nCalculating User Stats...\\n')\n",
        "    start_time = time.time()\n",
        "\n",
        "    # TO DO: Display counts of user types\n",
        "    user_types = df['User Type'].value_counts()\n",
        "    print(\"The count of user types from the given fitered data is: \\n\" + str(user_types))\n",
        "\n",
        "    if city == 'chicago.csv' or city == 'new_york_city.csv':\n",
        "        # TO DO: Display counts of gender\n",
        "        gender = df['Gender'].value_counts()\n",
        "        print(\"The count of user gender from the given fitered data is: \\n\" + str(gender))\n",
        "\n",
        "        # TO DO: Display earliest, most recent, and most common year of birth\n",
        "        earliest_birth = df['Birth Year'].min()\n",
        "        most_recent_birth = df['Birth Year'].max()\n",
        "        most_common_birth = df['Birth Year'].mode()[0]\n",
        "        print('Earliest birth from the given fitered data is: {}\\n'.format(earliest_birth))\n",
        "        print('Most recent birth is: {}\\n'.format(most_recent_birth))\n",
        "        print('Most common birth is: {}\\n'.format(most_common_birth) )\n",
        "\n",
        "    print(\"\\nThis took %s seconds.\" % (time.time() - start_time))\n",
        "    print('-'*40)"
      ],
      "metadata": {
        "id": "J9ovIhAGyhmk"
      },
      "execution_count": 8,
      "outputs": []
    },
    {
      "cell_type": "code",
      "source": [
        "def display_raw_data(df):\n",
        "    \"\"\"Displays raw data on user request.\n",
        "    Args:\n",
        "        (DataFrame) df - Pandas DataFrame containing city data filtered by month and day\n",
        "    \"\"\"\n",
        "    print(df.head())\n",
        "    next = 0\n",
        "    while True:\n",
        "        view_raw_data = input('\\nWould you like to view next five row of raw data? Enter yes or no.\\n')\n",
        "        if view_raw_data.lower() != 'yes':\n",
        "            return\n",
        "        next = next + 5\n",
        "        print(df.iloc[next:next+5])\n"
      ],
      "metadata": {
        "id": "GMUqPA66yhpc"
      },
      "execution_count": 9,
      "outputs": []
    },
    {
      "cell_type": "code",
      "source": [
        "while True:\n",
        "    city, month, day = get_filters()\n",
        "    df = load_data(city, month, day)\n",
        "\n",
        "    time_stats(df)\n",
        "    station_stats(df)\n",
        "    trip_duration_stats(df)\n",
        "    user_stats(df, city)\n",
        "    while True:\n",
        "        view_raw_data = input('\\nWould you like to view first five row of raw data? Enter yes or no.\\n')\n",
        "        if view_raw_data.lower() != 'yes':\n",
        "            break\n",
        "        display_raw_data(df)\n",
        "        break\n",
        "\n",
        "    restart = input('\\nWould you like to restart? Enter yes or no.\\n')\n",
        "    if restart.lower() != 'yes':\n",
        "        break"
      ],
      "metadata": {
        "id": "HvMDBkdfyhr7"
      },
      "execution_count": null,
      "outputs": []
    }
  ]
}